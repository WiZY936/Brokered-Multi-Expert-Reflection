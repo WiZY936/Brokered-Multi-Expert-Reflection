{
 "cells": [
  {
   "attachments": {},
   "cell_type": "markdown",
   "metadata": {},
   "source": [
    "#### Notebook for running Chain-of-Thought with supporting context experiments "
   ]
  },
  {
   "cell_type": "code",
   "execution_count": null,
   "metadata": {},
   "outputs": [],
   "source": [
    "import sys, os\n",
    "sys.path.append('..')\n",
    "root = '../root/'"
   ]
  },
  {
   "cell_type": "code",
   "execution_count": null,
   "metadata": {},
   "outputs": [],
   "source": [
    "import joblib\n",
    "import numpy as np\n",
    "from util import summarize_trial, log_trial, save_agents, summarize_react_trial, log_react_trial\n",
    "from rouge_score import rouge_scorer\n",
    "from ctrleval import CTRLEval\n",
    "import re\n"
   ]
  },
  {
   "cell_type": "markdown",
   "metadata": {},
   "source": [
    "### For single expert, run this block\n"
   ]
  },
  {
   "cell_type": "code",
   "execution_count": null,
   "metadata": {},
   "outputs": [],
   "source": [
    "from agents_med_single import CoTAgent, ReflexionStrategy"
   ]
  },
  {
   "cell_type": "markdown",
   "metadata": {},
   "source": [
    "### For multiple experts, run this block\n"
   ]
  },
  {
   "cell_type": "code",
   "execution_count": null,
   "metadata": {},
   "outputs": [],
   "source": [
    "from agents_med_double import CoTAgent, ReflexionStrategy"
   ]
  },
  {
   "attachments": {},
   "cell_type": "markdown",
   "metadata": {},
   "source": [
    "#### Load the PubmedQA Sample"
   ]
  },
  {
   "cell_type": "code",
   "execution_count": null,
   "metadata": {},
   "outputs": [],
   "source": [
    "dataset = joblib.load('../data/pubmed-qa-100-questions.joblib').reset_index(drop = True)\n",
    "\n",
    "# dataset['supporting_paragraphs'] = None\n",
    "# for ind, row in dataset.iterrows():\n",
    "#     supporting_articles = row['supporting_facts']['title']\n",
    "#     articles = row['context']['title']\n",
    "#     sentences = row['context']['sentences'] \n",
    "#     supporting_paragraphs = []\n",
    "#     for article in supporting_articles:\n",
    "#         supporting_paragraph = ''.join(sentences[np.where(articles == article)][0])\n",
    "#         supporting_paragraphs.append(supporting_paragraph)\n",
    "#     supporting_paragraphs = '\\n\\n'.join(supporting_paragraphs)\n",
    "#     dataset.at[ind, 'supporting_paragraphs'] = supporting_paragraphs"
   ]
  },
  {
   "attachments": {},
   "cell_type": "markdown",
   "metadata": {},
   "source": [
    "#### Define the Reflexion Strategy"
   ]
  },
  {
   "cell_type": "code",
   "execution_count": null,
   "metadata": {},
   "outputs": [],
   "source": [
    "print(ReflexionStrategy.__doc__)"
   ]
  },
  {
   "cell_type": "code",
   "execution_count": null,
   "metadata": {},
   "outputs": [],
   "source": [
    "strategy: ReflexionStrategy = ReflexionStrategy.REFLEXION"
   ]
  },
  {
   "attachments": {},
   "cell_type": "markdown",
   "metadata": {},
   "source": [
    "#### Initialize a CoTAgent for each question"
   ]
  },
  {
   "cell_type": "code",
   "execution_count": null,
   "metadata": {},
   "outputs": [],
   "source": [
    "from prompts import cot_agent_prompt, cot_reflect_agent_prompt, cot_reflect_prompt\n",
    "from fewshots import COT, COT_REFLECT\n",
    "agents = [CoTAgent(row['question'],\n",
    "                   row['supporting_paragraphs'],\n",
    "                   row['answer'],\n",
    "                   agent_prompt=cot_agent_prompt if strategy == ReflexionStrategy.NONE else cot_reflect_agent_prompt,\n",
    "                   cot_examples=COT,\n",
    "                   reflect_prompt=cot_reflect_prompt,\n",
    "                   reflect_examples=COT_REFLECT,\n",
    "                    ) for _, row in dataset.iterrows()]"
   ]
  },
  {
   "attachments": {},
   "cell_type": "markdown",
   "metadata": {},
   "source": [
    "#### Run `n` trials"
   ]
  },
  {
   "cell_type": "code",
   "execution_count": null,
   "metadata": {},
   "outputs": [],
   "source": [
    "n = 5\n",
    "trial = 0\n",
    "log = ''"
   ]
  },
  {
   "cell_type": "code",
   "execution_count": null,
   "metadata": {},
   "outputs": [],
   "source": [
    "for i in range(n):\n",
    "    for agent in [a for a in agents if not a.is_correct()]:\n",
    "        agent.run(reflexion_strategy = strategy)\n",
    "        print(f'Answer: {agent.key}')\n",
    "    trial += 1\n",
    "    log += log_trial(agents, trial)\n",
    "    correct, incorrect = summarize_trial(agents)\n",
    "    print(f'Finished Trial {trial}, Correct: {len(correct)}, Incorrect: {len(incorrect)}')\n",
    "    log += log_react_trial(agents, trial)"
   ]
  },
  {
   "cell_type": "code",
   "execution_count": null,
   "metadata": {},
   "outputs": [],
   "source": [
    "scorer = rouge_scorer.RougeScorer(['rougeL'], use_stemmer = True)\n",
    "scores = [scorer.score(agent.key, agent.answer) for agent in agents]\n",
    "\n",
    "print(f'Average Rouge-L: {sum([score[\"rougeL\"].fmeasure for score in scores]) / len(scores)}')"
   ]
  },
  {
   "cell_type": "code",
   "execution_count": null,
   "metadata": {},
   "outputs": [],
   "source": [
    "ctrleval_scorer = CTRLEval()\n",
    "cons_results, exp_cons_results = [], []\n",
    "for agent in agents:\n",
    "    question = agent.question\n",
    "    generated_answer = agent.answer\n",
    "    generated_answer = re.sub(\"\\u200b\", \" \", generated_answer)\n",
    "    if generated_answer.strip():\n",
    "        prefix = [question]\n",
    "        data = [question + '\\n' + generated_answer]\n",
    "        try:\n",
    "            cons_result = ctrleval_scorer.score(aspect = 'cons', data = data, prefix = prefix, batch_size = 1)\n",
    "            exp_cons_result = np.exp(cons_result[0])\n",
    "        except:\n",
    "            print('Error in scoring')\n",
    "            print(data)\n",
    "            exit()\n",
    "    else:\n",
    "        cons_result = [np.nan]\n",
    "        exp_cons_result = 0\n",
    "\n",
    "    cons_results.append(cons_result[0])\n",
    "    exp_cons_results.append(exp_cons_result)\n",
    "\n",
    "print(f'Average CTRLEval: {np.nanmean(cons_results)}')\n",
    "print(f'Average CTRLEval Exp : {np.nanmean(exp_cons_results)}')"
   ]
  },
  {
   "attachments": {},
   "cell_type": "markdown",
   "metadata": {},
   "source": [
    "#### Save the result log"
   ]
  },
  {
   "cell_type": "code",
   "execution_count": null,
   "metadata": {},
   "outputs": [],
   "source": [
    "with open(os.path.join(root, 'CoT', 'context', strategy.value, f'{len(agents)}_questions_{trial}_trials.txt'), 'w') as f:\n",
    "    f.write(log)\n",
    "save_agents(agents, os.path.join(root, 'CoT', 'context', strategy.value, 'agents'))"
   ]
  }
 ],
 "metadata": {
  "kernelspec": {
   "display_name": "env",
   "language": "python",
   "name": "python3"
  },
  "language_info": {
   "codemirror_mode": {
    "name": "ipython",
    "version": 3
   },
   "file_extension": ".py",
   "mimetype": "text/x-python",
   "name": "python",
   "nbconvert_exporter": "python",
   "pygments_lexer": "ipython3",
   "version": "3.11.4"
  },
  "orig_nbformat": 4,
  "vscode": {
   "interpreter": {
    "hash": "e23f799cbd2581634725fbf6ce3480ae26192d78438dfafc8efe944acd6490d5"
   }
  }
 },
 "nbformat": 4,
 "nbformat_minor": 2
}
